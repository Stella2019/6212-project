{
 "cells": [
  {
   "cell_type": "code",
   "execution_count": 1,
   "metadata": {},
   "outputs": [],
   "source": [
    "import pandas as pd"
   ]
  },
  {
   "cell_type": "code",
   "execution_count": 2,
   "metadata": {},
   "outputs": [],
   "source": [
    "gradebook = pd.read_csv('gradebook1.csv')"
   ]
  },
  {
   "cell_type": "code",
   "execution_count": 3,
   "metadata": {},
   "outputs": [
    {
     "data": {
      "text/html": [
       "<div>\n",
       "<style scoped>\n",
       "    .dataframe tbody tr th:only-of-type {\n",
       "        vertical-align: middle;\n",
       "    }\n",
       "\n",
       "    .dataframe tbody tr th {\n",
       "        vertical-align: top;\n",
       "    }\n",
       "\n",
       "    .dataframe thead th {\n",
       "        text-align: right;\n",
       "    }\n",
       "</style>\n",
       "<table border=\"1\" class=\"dataframe\">\n",
       "  <thead>\n",
       "    <tr style=\"text-align: right;\">\n",
       "      <th></th>\n",
       "      <th>ID</th>\n",
       "      <th>firstname</th>\n",
       "      <th>lastname</th>\n",
       "      <th>email</th>\n",
       "      <th>phone</th>\n",
       "      <th>city</th>\n",
       "      <th>score</th>\n",
       "      <th>department</th>\n",
       "    </tr>\n",
       "  </thead>\n",
       "  <tbody>\n",
       "    <tr>\n",
       "      <th>0</th>\n",
       "      <td>1</td>\n",
       "      <td>Ann</td>\n",
       "      <td>P</td>\n",
       "      <td>qhishf@qq.com</td>\n",
       "      <td>7865441</td>\n",
       "      <td>A</td>\n",
       "      <td>100</td>\n",
       "      <td>MATH</td>\n",
       "    </tr>\n",
       "    <tr>\n",
       "      <th>1</th>\n",
       "      <td>2</td>\n",
       "      <td>Kevin</td>\n",
       "      <td>P</td>\n",
       "      <td>4837hi@163.com</td>\n",
       "      <td>8966554</td>\n",
       "      <td>B</td>\n",
       "      <td>98</td>\n",
       "      <td>Statistics</td>\n",
       "    </tr>\n",
       "    <tr>\n",
       "      <th>2</th>\n",
       "      <td>3</td>\n",
       "      <td>Stella</td>\n",
       "      <td>P</td>\n",
       "      <td>ien92gt@gmail.com</td>\n",
       "      <td>8765441</td>\n",
       "      <td>A</td>\n",
       "      <td>68</td>\n",
       "      <td>Statistics</td>\n",
       "    </tr>\n",
       "    <tr>\n",
       "      <th>3</th>\n",
       "      <td>4</td>\n",
       "      <td>Ben</td>\n",
       "      <td>P</td>\n",
       "      <td>jisnbfu@qq.com</td>\n",
       "      <td>98326</td>\n",
       "      <td>B</td>\n",
       "      <td>80</td>\n",
       "      <td>Statistics</td>\n",
       "    </tr>\n",
       "    <tr>\n",
       "      <th>4</th>\n",
       "      <td>5</td>\n",
       "      <td>Victoria</td>\n",
       "      <td>P</td>\n",
       "      <td>jbbd1@163.com</td>\n",
       "      <td>987650</td>\n",
       "      <td>A</td>\n",
       "      <td>71</td>\n",
       "      <td>Statistics</td>\n",
       "    </tr>\n",
       "    <tr>\n",
       "      <th>5</th>\n",
       "      <td>6</td>\n",
       "      <td>Tom</td>\n",
       "      <td>A</td>\n",
       "      <td>whushubeubufosb@qq.com</td>\n",
       "      <td>97245672</td>\n",
       "      <td>B</td>\n",
       "      <td>77</td>\n",
       "      <td>Statistics</td>\n",
       "    </tr>\n",
       "    <tr>\n",
       "      <th>6</th>\n",
       "      <td>7</td>\n",
       "      <td>Jerry</td>\n",
       "      <td>P</td>\n",
       "      <td>477777@qq.com</td>\n",
       "      <td>44686</td>\n",
       "      <td>A</td>\n",
       "      <td>89</td>\n",
       "      <td>Statistics</td>\n",
       "    </tr>\n",
       "    <tr>\n",
       "      <th>7</th>\n",
       "      <td>8</td>\n",
       "      <td>Bob</td>\n",
       "      <td>N</td>\n",
       "      <td>19jsihf@qq.com</td>\n",
       "      <td>64326</td>\n",
       "      <td>B</td>\n",
       "      <td>99</td>\n",
       "      <td>Statistics</td>\n",
       "    </tr>\n",
       "    <tr>\n",
       "      <th>8</th>\n",
       "      <td>9</td>\n",
       "      <td>Justin</td>\n",
       "      <td>P</td>\n",
       "      <td>sjiqncu@qq.com</td>\n",
       "      <td>8765432</td>\n",
       "      <td>A</td>\n",
       "      <td>95</td>\n",
       "      <td>Statistics</td>\n",
       "    </tr>\n",
       "    <tr>\n",
       "      <th>9</th>\n",
       "      <td>10</td>\n",
       "      <td>Chen</td>\n",
       "      <td>N</td>\n",
       "      <td>ijai82y@qq.com</td>\n",
       "      <td>99089479</td>\n",
       "      <td>B</td>\n",
       "      <td>88</td>\n",
       "      <td>Statistics</td>\n",
       "    </tr>\n",
       "  </tbody>\n",
       "</table>\n",
       "</div>"
      ],
      "text/plain": [
       "   ID firstname lastname                   email     phone city  score  \\\n",
       "0   1       Ann        P           qhishf@qq.com   7865441    A    100   \n",
       "1   2     Kevin        P          4837hi@163.com   8966554    B     98   \n",
       "2   3    Stella        P       ien92gt@gmail.com   8765441    A     68   \n",
       "3   4       Ben        P          jisnbfu@qq.com     98326    B     80   \n",
       "4   5  Victoria        P           jbbd1@163.com    987650    A     71   \n",
       "5   6       Tom        A  whushubeubufosb@qq.com  97245672    B     77   \n",
       "6   7     Jerry        P           477777@qq.com     44686    A     89   \n",
       "7   8       Bob        N          19jsihf@qq.com     64326    B     99   \n",
       "8   9    Justin        P          sjiqncu@qq.com   8765432    A     95   \n",
       "9  10      Chen        N          ijai82y@qq.com  99089479    B     88   \n",
       "\n",
       "   department  \n",
       "0        MATH  \n",
       "1  Statistics  \n",
       "2  Statistics  \n",
       "3  Statistics  \n",
       "4  Statistics  \n",
       "5  Statistics  \n",
       "6  Statistics  \n",
       "7  Statistics  \n",
       "8  Statistics  \n",
       "9  Statistics  "
      ]
     },
     "execution_count": 3,
     "metadata": {},
     "output_type": "execute_result"
    }
   ],
   "source": [
    "gradebook"
   ]
  },
  {
   "cell_type": "code",
   "execution_count": 17,
   "metadata": {},
   "outputs": [],
   "source": [
    "gb = open('gradebook1.csv').readlines()"
   ]
  },
  {
   "cell_type": "code",
   "execution_count": 25,
   "metadata": {},
   "outputs": [
    {
     "data": {
      "text/plain": [
       "['3',\n",
       " 'Stella',\n",
       " 'P',\n",
       " ' ien92gt@gmail.com',\n",
       " '8765441',\n",
       " ' A',\n",
       " '68',\n",
       " 'Statistics\\n']"
      ]
     },
     "execution_count": 25,
     "metadata": {},
     "output_type": "execute_result"
    }
   ],
   "source": [
    "gb[3].split(',')"
   ]
  },
  {
   "cell_type": "code",
   "execution_count": 27,
   "metadata": {},
   "outputs": [
    {
     "data": {
      "text/plain": [
       "['Stella', 'P', ' ien92gt@gmail.com', '8765441', ' A', '68', 'Statistics\\n']"
      ]
     },
     "execution_count": 27,
     "metadata": {},
     "output_type": "execute_result"
    }
   ],
   "source": [
    "studentDict = {}\n",
    "for student in gb[1:]:\n",
    "#     print(student[0])\n",
    "    student = student.split(',')\n",
    "    studentDict[student[0]] = student[1:]\n",
    "    \n",
    "studentDict[\"3\"]"
   ]
  },
  {
   "cell_type": "code",
   "execution_count": 39,
   "metadata": {},
   "outputs": [],
   "source": [
    "arr = list(range(100))"
   ]
  },
  {
   "cell_type": "code",
   "execution_count": 40,
   "metadata": {},
   "outputs": [],
   "source": [
    "def binarysearch(arr, targetid):\n",
    "    left, right = 0, len(arr) - 1\n",
    "    \n",
    "    while (left < right):\n",
    "        mid = (left + right) // 2\n",
    "        if mid == targetid:\n",
    "            return mid\n",
    "        elif mid < targetid:\n",
    "            left = mid + 1\n",
    "        else:\n",
    "            right = mid - 1\n",
    "    \n",
    "    return left"
   ]
  },
  {
   "cell_type": "code",
   "execution_count": 47,
   "metadata": {},
   "outputs": [
    {
     "data": {
      "text/plain": [
       "[1, 3, 5, 7, 9, 11, 13, 15, 17, 19]"
      ]
     },
     "execution_count": 47,
     "metadata": {},
     "output_type": "execute_result"
    }
   ],
   "source": [
    "arr2 = list(range(1,20,2))\n",
    "arr2"
   ]
  },
  {
   "cell_type": "code",
   "execution_count": 62,
   "metadata": {},
   "outputs": [],
   "source": [
    "# uncontinous array\n",
    "def binarysearch2(arr, target):\n",
    "    left, right = 0, len(arr) - 1\n",
    "    \n",
    "    while (left < right):\n",
    "        mid = (left + right) // 2\n",
    "        if arr[mid] == target:\n",
    "            return arr[mid]\n",
    "        elif arr[mid] < target:\n",
    "            left = mid + 1\n",
    "        else:\n",
    "            right = mid - 1\n",
    "\n",
    "    # if target is not in the array\n",
    "    if arr[left] > target:\n",
    "        return False\n",
    "    if arr[right] < target:\n",
    "        return False\n",
    "\n",
    "    return arr[left]"
   ]
  },
  {
   "cell_type": "code",
   "execution_count": 63,
   "metadata": {},
   "outputs": [
    {
     "data": {
      "text/plain": [
       "False"
      ]
     },
     "execution_count": 63,
     "metadata": {},
     "output_type": "execute_result"
    }
   ],
   "source": [
    "binarysearch2(arr2, 6)"
   ]
  },
  {
   "cell_type": "code",
   "execution_count": 50,
   "metadata": {},
   "outputs": [
    {
     "data": {
      "text/plain": [
       "2"
      ]
     },
     "execution_count": 50,
     "metadata": {},
     "output_type": "execute_result"
    }
   ],
   "source": [
    "left = 0\n",
    "right = 4\n",
    "mid = (left + right) // 2\n",
    "mid"
   ]
  },
  {
   "cell_type": "code",
   "execution_count": null,
   "metadata": {},
   "outputs": [],
   "source": []
  }
 ],
 "metadata": {
  "kernelspec": {
   "display_name": "Python 3",
   "language": "python",
   "name": "python3"
  },
  "language_info": {
   "codemirror_mode": {
    "name": "ipython",
    "version": 3
   },
   "file_extension": ".py",
   "mimetype": "text/x-python",
   "name": "python",
   "nbconvert_exporter": "python",
   "pygments_lexer": "ipython3",
   "version": "3.7.3"
  }
 },
 "nbformat": 4,
 "nbformat_minor": 2
}
